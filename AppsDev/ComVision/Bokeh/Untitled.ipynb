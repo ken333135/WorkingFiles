{
 "cells": [
  {
   "cell_type": "code",
   "execution_count": 39,
   "metadata": {},
   "outputs": [],
   "source": [
    "from bokeh.plotting import figure,output_file,show\n",
    "import pandas\n",
    "\n",
    "df=pandas.DataFrame(columns=[\"X\",\"Y\"])\n",
    "df[\"X\"]=[1,2,3,4,5]\n",
    "df[\"Y\"]=[4,6,6,2,1]\n",
    "\n",
    "p=figure(plot_width=500,plot_height=400,title=\"Earthquakes\")\n",
    "#we can determine the size of the markers in the plot\n",
    "\n",
    "p.circle(df[\"X\"],df[\"Y\"],size=[1,4,6,8,10],color='red')\n",
    "\n",
    "\n",
    "output_file(\"Scatter_Plotting.html\")\n",
    "show(p)"
   ]
  },
  {
   "cell_type": "code",
   "execution_count": null,
   "metadata": {
    "collapsed": true
   },
   "outputs": [],
   "source": []
  }
 ],
 "metadata": {},
 "nbformat": 4,
 "nbformat_minor": 2
}
